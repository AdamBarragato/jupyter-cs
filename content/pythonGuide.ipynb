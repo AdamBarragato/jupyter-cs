{
 "cells": [
  {
   "cell_type": "markdown",
   "metadata": {},
   "source": [
    "# Python Basics\n",
    "\n",
    "The purpose of this notebook is to walk through some of the fundamentals of using python."
   ]
  },
  {
   "cell_type": "markdown",
   "metadata": {},
   "source": [
    "### Essentials"
   ]
  },
  {
   "cell_type": "code",
   "execution_count": 11,
   "metadata": {},
   "outputs": [
    {
     "name": "stdout",
     "output_type": "stream",
     "text": [
      "hello\n"
     ]
    },
    {
     "data": {
      "text/plain": [
       "'12345'"
      ]
     },
     "execution_count": 11,
     "metadata": {},
     "output_type": "execute_result"
    }
   ],
   "source": [
    "print(\"hello\") #This represents a statement\n",
    "# anything with a \"#\" in front of it is a comment and is not executed\n",
    "a = '1' + '2' + '3' + \\\n",
    "    '4' + '5'  # backwards slash can be used to create a line break in a statement\n",
    "a"
   ]
  },
  {
   "cell_type": "markdown",
   "metadata": {},
   "source": [
    "### Data types and syntax\n",
    "\n",
    "In python, variables are untyped, meaning that you do not need to explicitly specify the type of the variable; variable types are inferred based on the format and syntax."
   ]
  },
  {
   "cell_type": "code",
   "execution_count": 12,
   "metadata": {},
   "outputs": [
    {
     "data": {
      "text/plain": [
       "(str, str)"
      ]
     },
     "execution_count": 12,
     "metadata": {},
     "output_type": "execute_result"
    }
   ],
   "source": [
    "string_example1 = \"Hello\"\n",
    "string_example2 = 'Hello' #both \"\" and '' can be used for strings\n",
    "type(string_example1), type(string_example2) #the type() function can be used to check what type a variable is"
   ]
  },
  {
   "cell_type": "markdown",
   "metadata": {},
   "source": [
    "Variables can be reassigned to have values with a different type, however in this example this would no longer be a descriptive variable name"
   ]
  },
  {
   "cell_type": "code",
   "execution_count": 13,
   "metadata": {},
   "outputs": [
    {
     "data": {
      "text/plain": [
       "int"
      ]
     },
     "execution_count": 13,
     "metadata": {},
     "output_type": "execute_result"
    }
   ],
   "source": [
    "string_example1 = 123 \n",
    "type(string_example1)"
   ]
  },
  {
   "cell_type": "markdown",
   "metadata": {},
   "source": [
    "When possible, the type of a value can also be converted"
   ]
  },
  {
   "cell_type": "code",
   "execution_count": 14,
   "metadata": {},
   "outputs": [
    {
     "name": "stdout",
     "output_type": "stream",
     "text": [
      "123\n",
      "<class 'str'>\n"
     ]
    }
   ],
   "source": [
    "string_example1 = str(string_example1) #this converts an integer into a string \n",
    "print(string_example1)\n",
    "print(type(string_example1))\n",
    "int(str)"
   ]
  },
  {
   "cell_type": "markdown",
   "metadata": {},
   "source": [
    "Variables can easily be used as placeholders in text with what are known as f-strings"
   ]
  },
  {
   "cell_type": "code",
   "execution_count": null,
   "metadata": {},
   "outputs": [],
   "source": [
    "name = \"Jane Doe\"\n",
    "print(f\"Hello, my name is {name}\") #f-strings allow you to easily reference and use variables in text"
   ]
  },
  {
   "cell_type": "markdown",
   "metadata": {},
   "source": [
    "### Basic String and List Operations"
   ]
  },
  {
   "cell_type": "code",
   "execution_count": 18,
   "metadata": {},
   "outputs": [
    {
     "name": "stdout",
     "output_type": "stream",
     "text": [
      "5\n"
     ]
    },
    {
     "data": {
      "text/plain": [
       "'Hello world'"
      ]
     },
     "execution_count": 18,
     "metadata": {},
     "output_type": "execute_result"
    }
   ],
   "source": [
    "w = \"world\"\n",
    "h = \"Hello\"\n",
    "h +\" \"+ w #strings can be concatenated, or joined together\n"
   ]
  },
  {
   "cell_type": "code",
   "execution_count": 22,
   "metadata": {},
   "outputs": [
    {
     "name": "stdout",
     "output_type": "stream",
     "text": [
      "11\n",
      "Miss\n",
      "Miss\n",
      "issippi\n",
      "issippi\n",
      "pi\n"
     ]
    }
   ],
   "source": [
    "state = \"Mississippi\"\n",
    "print(len(state)) #prints the number of characters in a string\n",
    "print(state[0:4])\n",
    "print(state[:4]) #this is the same as above as 0 is used for the start when not specified\n",
    "\n",
    "print(state[4:11])\n",
    "print(state[4:]) #if end is not specified, the end of the string is used\n",
    "\n",
    "print(state[-2:]) #you can also use negative indices to count from the end instead of the beginning\n"
   ]
  },
  {
   "cell_type": "code",
   "execution_count": 23,
   "metadata": {},
   "outputs": [
    {
     "name": "stdout",
     "output_type": "stream",
     "text": [
      "3\n",
      "[1, 2, 3]\n"
     ]
    }
   ],
   "source": [
    "list_example = [1,2,3,\"a\",True]\n",
    "print(list_example[2])\n",
    "print(list_example[:3])"
   ]
  },
  {
   "cell_type": "markdown",
   "metadata": {},
   "source": [
    "### Repetition and Conditionals\n",
    "\n",
    "For loops iterate over a particular set"
   ]
  },
  {
   "cell_type": "code",
   "execution_count": 24,
   "metadata": {},
   "outputs": [
    {
     "name": "stdout",
     "output_type": "stream",
     "text": [
      "Dear Dave, you are invited\n",
      "Dear Min, you are invited\n",
      "Dear Jean, you are invited\n",
      "Dear Mary, you are invited\n",
      "Dear Jude, you are invited\n",
      "Dear Jose, you are invited\n",
      "Done\n"
     ]
    }
   ],
   "source": [
    "friends = [\"Dave\", \"Min\", \"Jean\", \"Mary\", \"Jude\", \"Jose\"]\n",
    "for name in friends:\n",
    "    print(\"Dear \" + name + \", you are invited\") #indentation is used to denote that the code that is run for each iteration of the loop\n",
    "print(\"Done\") "
   ]
  },
  {
   "cell_type": "markdown",
   "metadata": {},
   "source": [
    "While loops continue to run until a condition is met"
   ]
  },
  {
   "cell_type": "code",
   "execution_count": 25,
   "metadata": {},
   "outputs": [
    {
     "name": "stdout",
     "output_type": "stream",
     "text": [
      "0\n",
      "1\n",
      "2\n",
      "3\n",
      "4\n",
      "5\n",
      "6\n",
      "7\n",
      "8\n",
      "9\n",
      "Done\n"
     ]
    }
   ],
   "source": [
    "i = 0\n",
    "while i < 10:\n",
    "    print(i)\n",
    "    i+=1 #increments the value of i by 1\n",
    "print(\"Done\")"
   ]
  },
  {
   "cell_type": "markdown",
   "metadata": {},
   "source": [
    "Conditionals are used to specify when code should be run"
   ]
  },
  {
   "cell_type": "code",
   "execution_count": 27,
   "metadata": {},
   "outputs": [
    {
     "name": "stdout",
     "output_type": "stream",
     "text": [
      "Even\n"
     ]
    }
   ],
   "source": [
    "i = 2\n",
    "if i%2==0: #creates a condition for when the below statement should be run. \"%\" means modulo, essentially looking at the remainder from dividing by a number, in this case, 2\n",
    "    print(\"Even\")\n",
    "else:\n",
    "    print(\"odd\")"
   ]
  },
  {
   "cell_type": "code",
   "execution_count": 29,
   "metadata": {},
   "outputs": [
    {
     "name": "stdout",
     "output_type": "stream",
     "text": [
      "X is 1 and Y is 10\n",
      "X is smaller\n",
      "\n",
      "X is 3 and Y is 9\n",
      "X is smaller\n",
      "\n",
      "X is 5 and Y is 8\n",
      "X is smaller\n",
      "\n",
      "X is 7 and Y is 7\n",
      "X and Y are equal\n",
      "\n",
      "X is 9 and Y is 6\n",
      "Y is smaller\n",
      "\n",
      "X is 11 and Y is 5\n",
      "Y is smaller\n",
      "\n",
      "X is 13 and Y is 4\n",
      "Y is smaller\n",
      "\n"
     ]
    }
   ],
   "source": [
    "x = 1\n",
    "y = 10\n",
    "while x < 15:\n",
    "    print(f\"X is {x} and Y is {y}\")\n",
    "    if x < y: print(\"X is smaller\\n\")\n",
    "    elif x == y: print(\"X and Y are equal\\n\")\n",
    "    else: print(\"Y is smaller\\n\")\n",
    "    x += 2\n",
    "    y -= 1"
   ]
  },
  {
   "cell_type": "code",
   "execution_count": null,
   "metadata": {},
   "outputs": [],
   "source": []
  }
 ],
 "metadata": {
  "kernelspec": {
   "display_name": "module1",
   "language": "python",
   "name": "python3"
  },
  "language_info": {
   "codemirror_mode": {
    "name": "ipython",
    "version": 3
   },
   "file_extension": ".py",
   "mimetype": "text/x-python",
   "name": "python",
   "nbconvert_exporter": "python",
   "pygments_lexer": "ipython3",
   "version": "3.9.18"
  }
 },
 "nbformat": 4,
 "nbformat_minor": 2
}
